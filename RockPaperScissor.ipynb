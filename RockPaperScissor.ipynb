{
 "cells": [
  {
   "cell_type": "markdown",
   "id": "cba51ccb-7656-4863-b18b-728d4884994c",
   "metadata": {},
   "source": [
    "***Rock Paper Scissor Game***"
   ]
  },
  {
   "cell_type": "code",
   "execution_count": 1,
   "id": "d657f910-26f2-41a6-8651-e5ef10407a10",
   "metadata": {},
   "outputs": [
    {
     "name": "stdin",
     "output_type": "stream",
     "text": [
      "Hello! Give me your name -  Janardhan\n"
     ]
    }
   ],
   "source": [
    "# step - 1.give player name as input\n",
    "name = input(\"Hello! Give me your name - \")"
   ]
  },
  {
   "cell_type": "code",
   "execution_count": 2,
   "id": "0e27d108-47ed-4852-9c33-7a9107cb7e63",
   "metadata": {},
   "outputs": [
    {
     "data": {
      "text/plain": [
       "'Janardhan'"
      ]
     },
     "execution_count": 2,
     "metadata": {},
     "output_type": "execute_result"
    }
   ],
   "source": [
    "name"
   ]
  },
  {
   "cell_type": "code",
   "execution_count": 3,
   "id": "15b736e7-07c7-4d7e-bcbf-1b6fad5e886f",
   "metadata": {},
   "outputs": [],
   "source": [
    "# Step - 2.ask how many rounds would you like to play?\n",
    "def take_rounds_input(name):\n",
    "    text_prompt = \"hey \" + name + \" How many rounds would you like to play? \"\n",
    "    flag = True\n",
    "    while flag:\n",
    "        rounds = int(input(text_prompt))\n",
    "        if rounds%2 == 1:\n",
    "            if rounds > 2 and rounds < 10:\n",
    "                return rounds\n",
    "                flag = False\n",
    "            else:\n",
    "                print(\"Your number is not in the range of 3 to 9, please enter again\")            \n",
    "        else:\n",
    "            print('No, it is even number enter again')"
   ]
  },
  {
   "cell_type": "code",
   "execution_count": 4,
   "id": "93e04ed1-0c97-4e35-b904-718e4be920fb",
   "metadata": {},
   "outputs": [],
   "source": [
    "# Step 3 - Generate a Random Computer selection out of R/P/S\n",
    "import random\n",
    "def give_me_a_computer_choice():\n",
    "    option_list = ('rock', 'paper', 'scissor')\n",
    "    return random.choice(option_list)"
   ]
  },
  {
   "cell_type": "code",
   "execution_count": 5,
   "id": "a7060be0-e662-4495-996f-24e3af5c02d6",
   "metadata": {},
   "outputs": [],
   "source": [
    "computer_input = give_me_a_computer_choice()"
   ]
  },
  {
   "cell_type": "code",
   "execution_count": 6,
   "id": "99134834-7d8b-4b8b-bf20-11d92907f88c",
   "metadata": {},
   "outputs": [],
   "source": [
    "# Step 4 - Take player input out of Rock Paper Scissor\n",
    "def give_me_a_player_option():\n",
    "    option = input(\"R=Rock, P=Paper, S=Scissor - \")\n",
    "\n",
    "    if option == 'R' or option == 'r':\n",
    "        return 'rock'\n",
    "    elif option == 'P' or option == 'p':\n",
    "        return 'paper'\n",
    "    elif option == 'S' or option == 's':\n",
    "        return 'scissor'\n",
    "    else:\n",
    "        return give_me_a_player_option()"
   ]
  },
  {
   "cell_type": "code",
   "execution_count": 7,
   "id": "e4c51c83-eb17-4053-86ab-e64983fab131",
   "metadata": {},
   "outputs": [
    {
     "name": "stdin",
     "output_type": "stream",
     "text": [
      "R=Rock, P=Paper, S=Scissor -  P\n"
     ]
    }
   ],
   "source": [
    "player_input = give_me_a_player_option()"
   ]
  },
  {
   "cell_type": "code",
   "execution_count": 8,
   "id": "453d39c1-bad1-4272-ae38-3c858d1b79c8",
   "metadata": {},
   "outputs": [],
   "source": [
    "# Step 5 - Check who is winning in a specific round\n",
    "def check_who_is_winning(computer_input, player_input):\n",
    "    \n",
    "    if player_input == 'scissor' and computer_input == 'scissor':\n",
    "        return 'draw'\n",
    "    elif player_input == 'rock' and computer_input == 'scissor':\n",
    "        return 'player'\n",
    "    elif player_input == 'paper' and computer_input == 'scissor':\n",
    "        return 'computer'\n",
    "\n",
    "    elif player_input == 'scissor' and computer_input == 'rock':\n",
    "        return 'computer'\n",
    "    elif player_input == 'rock' and computer_input == 'rock':\n",
    "        return 'draw'\n",
    "    elif player_input == 'paper' and computer_input == 'rock':\n",
    "        return 'player'\n",
    "\n",
    "    elif player_input == 'scissor' and computer_input == 'paper':\n",
    "        return 'player'\n",
    "    elif player_input == 'rock' and computer_input == 'paper':\n",
    "        return 'computer'\n",
    "    elif player_input == 'paper' and computer_input == 'paper':\n",
    "        return 'draw'\n",
    "        \n",
    "    else:\n",
    "        return \"Some error is there in spellings\""
   ]
  },
  {
   "cell_type": "code",
   "execution_count": 9,
   "id": "ae6be40a-d8d3-4655-bf94-9d04bb80cb7b",
   "metadata": {},
   "outputs": [
    {
     "data": {
      "text/plain": [
       "'player'"
      ]
     },
     "execution_count": 9,
     "metadata": {},
     "output_type": "execute_result"
    }
   ],
   "source": [
    "check_who_is_winning(computer_input, player_input)"
   ]
  },
  {
   "cell_type": "code",
   "execution_count": 10,
   "id": "66a416a7-1f5b-4566-a67d-d8a06c952e6a",
   "metadata": {},
   "outputs": [],
   "source": [
    "# Step 6 - recording who is winning in the list\n",
    "\n",
    "lst = []\n",
    "lst.append('draw')\n",
    "lst.append('player')\n",
    "lst.append('player')"
   ]
  },
  {
   "cell_type": "code",
   "execution_count": 11,
   "id": "47880874-ea50-47ee-8c89-c9417e83f691",
   "metadata": {},
   "outputs": [],
   "source": [
    "def check_ultimate_winner(round_list):\n",
    "    player = round_list.count('player')\n",
    "    computer = round_list.count('computer')\n",
    "    draw = round_list.count('draw')\n",
    "\n",
    "    if player > computer:\n",
    "        return \"player\"\n",
    "    elif computer > player:\n",
    "        return \"computer\"\n",
    "    else:\n",
    "        return \"draw\""
   ]
  },
  {
   "cell_type": "code",
   "execution_count": 12,
   "id": "fd2c2438-766d-44fb-8cc7-5004217ac6d6",
   "metadata": {},
   "outputs": [
    {
     "data": {
      "text/plain": [
       "'player'"
      ]
     },
     "execution_count": 12,
     "metadata": {},
     "output_type": "execute_result"
    }
   ],
   "source": [
    "check_ultimate_winner(['computer','player','player'])"
   ]
  },
  {
   "cell_type": "code",
   "execution_count": 13,
   "id": "81f3826e-c361-431d-b1ab-fe6f7760aae3",
   "metadata": {},
   "outputs": [
    {
     "name": "stdin",
     "output_type": "stream",
     "text": [
      "Hello! Give me your name -  Janardhan\n",
      "hey Janardhan How many rounds would you like to play?  5\n",
      "R=Rock, P=Paper, S=Scissor -  s\n"
     ]
    },
    {
     "name": "stdout",
     "output_type": "stream",
     "text": [
      "Player Choice -  scissor\n",
      "Computer Choice -  rock\n"
     ]
    },
    {
     "name": "stdin",
     "output_type": "stream",
     "text": [
      "R=Rock, P=Paper, S=Scissor -  r\n"
     ]
    },
    {
     "name": "stdout",
     "output_type": "stream",
     "text": [
      "Player Choice -  rock\n",
      "Computer Choice -  paper\n"
     ]
    },
    {
     "name": "stdin",
     "output_type": "stream",
     "text": [
      "R=Rock, P=Paper, S=Scissor -  p\n"
     ]
    },
    {
     "name": "stdout",
     "output_type": "stream",
     "text": [
      "Player Choice -  paper\n",
      "Computer Choice -  paper\n"
     ]
    },
    {
     "name": "stdin",
     "output_type": "stream",
     "text": [
      "R=Rock, P=Paper, S=Scissor -  p\n"
     ]
    },
    {
     "name": "stdout",
     "output_type": "stream",
     "text": [
      "Player Choice -  paper\n",
      "Computer Choice -  rock\n"
     ]
    },
    {
     "name": "stdin",
     "output_type": "stream",
     "text": [
      "R=Rock, P=Paper, S=Scissor -  r\n"
     ]
    },
    {
     "name": "stdout",
     "output_type": "stream",
     "text": [
      "Player Choice -  rock\n",
      "Computer Choice -  paper\n",
      "Winner of sub rounds ['computer', 'computer', 'draw', 'player', 'computer']\n",
      "computer wins the Game !!\n"
     ]
    }
   ],
   "source": [
    "# Finally merging all the steps \n",
    "name = input(\"Hello! Give me your name - \")\n",
    "rounds = take_rounds_input(name)\n",
    "sub_round_winning_lst = []\n",
    "for i in range(rounds):\n",
    "\n",
    "    #Take Player input\n",
    "    player_choice = give_me_a_player_option()\n",
    "    print(\"Player Choice - \",player_choice)\n",
    "\n",
    "    #Take Computer input\n",
    "    com_choice = give_me_a_computer_choice()\n",
    "    print(\"Computer Choice - \",com_choice)\n",
    "\n",
    "    #Check who is the number of the sub round\n",
    "    sub_round_winner = check_who_is_winning(com_choice, player_choice)\n",
    "    #Store it for later use\n",
    "    sub_round_winning_lst.append(sub_round_winner)\n",
    "\n",
    "print(\"Winner of sub rounds\",sub_round_winning_lst)\n",
    "print(check_ultimate_winner(sub_round_winning_lst),\"wins the Game !!\")"
   ]
  },
  {
   "cell_type": "code",
   "execution_count": null,
   "id": "32e38eeb-b6b5-4717-8345-76d6fffc632b",
   "metadata": {},
   "outputs": [],
   "source": []
  }
 ],
 "metadata": {
  "kernelspec": {
   "display_name": "Python 3 (ipykernel)",
   "language": "python",
   "name": "python3"
  },
  "language_info": {
   "codemirror_mode": {
    "name": "ipython",
    "version": 3
   },
   "file_extension": ".py",
   "mimetype": "text/x-python",
   "name": "python",
   "nbconvert_exporter": "python",
   "pygments_lexer": "ipython3",
   "version": "3.9.6"
  }
 },
 "nbformat": 4,
 "nbformat_minor": 5
}
